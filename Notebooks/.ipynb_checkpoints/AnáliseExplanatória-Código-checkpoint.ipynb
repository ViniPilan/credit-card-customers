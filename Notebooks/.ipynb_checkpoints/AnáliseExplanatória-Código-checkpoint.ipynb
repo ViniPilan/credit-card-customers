{
 "cells": [
  {
   "cell_type": "code",
   "execution_count": 1,
   "id": "65df96c0",
   "metadata": {},
   "outputs": [],
   "source": [
    "import pandas as pd\n",
    "import numpy as np\n",
    "import matplotlib.pyplot as plt\n",
    "import seaborn as sns\n",
    "\n",
    "import pickle\n",
    "\n",
    "from sklearn.model_selection import train_test_split\n",
    "from sklearn.metrics import confusion_matrix"
   ]
  },
  {
   "cell_type": "code",
   "execution_count": 2,
   "id": "6325b369",
   "metadata": {},
   "outputs": [],
   "source": [
    "data = pd.read_csv('../Dados/BankChurners_preprocessed.csv')\n",
    "data.rename({'Less_than_$40K':'Less_than_40K'}, axis=1, inplace=True)"
   ]
  },
  {
   "cell_type": "code",
   "execution_count": 3,
   "id": "5b446e87",
   "metadata": {},
   "outputs": [
    {
     "data": {
      "text/html": [
       "<div>\n",
       "<style scoped>\n",
       "    .dataframe tbody tr th:only-of-type {\n",
       "        vertical-align: middle;\n",
       "    }\n",
       "\n",
       "    .dataframe tbody tr th {\n",
       "        vertical-align: top;\n",
       "    }\n",
       "\n",
       "    .dataframe thead th {\n",
       "        text-align: right;\n",
       "    }\n",
       "</style>\n",
       "<table border=\"1\" class=\"dataframe\">\n",
       "  <thead>\n",
       "    <tr style=\"text-align: right;\">\n",
       "      <th></th>\n",
       "      <th>Problem</th>\n",
       "    </tr>\n",
       "  </thead>\n",
       "  <tbody>\n",
       "    <tr>\n",
       "      <th>Problem</th>\n",
       "      <td>1.000000</td>\n",
       "    </tr>\n",
       "    <tr>\n",
       "      <th>Contacts_Count_12_mon</th>\n",
       "      <td>0.231497</td>\n",
       "    </tr>\n",
       "    <tr>\n",
       "      <th>Months_Inactive_12_mon</th>\n",
       "      <td>0.185385</td>\n",
       "    </tr>\n",
       "    <tr>\n",
       "      <th>Dependent_count</th>\n",
       "      <td>0.048197</td>\n",
       "    </tr>\n",
       "    <tr>\n",
       "      <th>Less_than_40K</th>\n",
       "      <td>0.043104</td>\n",
       "    </tr>\n",
       "    <tr>\n",
       "      <th>college_or_above</th>\n",
       "      <td>0.027660</td>\n",
       "    </tr>\n",
       "    <tr>\n",
       "      <th>Customer_Age_43-50</th>\n",
       "      <td>0.014575</td>\n",
       "    </tr>\n",
       "    <tr>\n",
       "      <th>Months_on_book</th>\n",
       "      <td>0.007891</td>\n",
       "    </tr>\n",
       "    <tr>\n",
       "      <th>Customer_Age_50-68</th>\n",
       "      <td>0.007578</td>\n",
       "    </tr>\n",
       "    <tr>\n",
       "      <th>Avg_Open_To_Buy</th>\n",
       "      <td>-0.008899</td>\n",
       "    </tr>\n",
       "    <tr>\n",
       "      <th>Customer_Age_0-43</th>\n",
       "      <td>-0.023738</td>\n",
       "    </tr>\n",
       "    <tr>\n",
       "      <th>Married</th>\n",
       "      <td>-0.041338</td>\n",
       "    </tr>\n",
       "    <tr>\n",
       "      <th>Male</th>\n",
       "      <td>-0.051232</td>\n",
       "    </tr>\n",
       "    <tr>\n",
       "      <th>Credit_Limit</th>\n",
       "      <td>-0.074560</td>\n",
       "    </tr>\n",
       "    <tr>\n",
       "      <th>Total_Amt_Chng_Q4_Q1</th>\n",
       "      <td>-0.107253</td>\n",
       "    </tr>\n",
       "    <tr>\n",
       "      <th>Total_Relationship_Count</th>\n",
       "      <td>-0.180775</td>\n",
       "    </tr>\n",
       "    <tr>\n",
       "      <th>Avg_Utilization_Ratio</th>\n",
       "      <td>-0.305818</td>\n",
       "    </tr>\n",
       "    <tr>\n",
       "      <th>Total_Revolving_Bal</th>\n",
       "      <td>-0.387944</td>\n",
       "    </tr>\n",
       "    <tr>\n",
       "      <th>Total_Trans_Amt</th>\n",
       "      <td>-0.393252</td>\n",
       "    </tr>\n",
       "    <tr>\n",
       "      <th>Total_Ct_Chng_Q4_Q1</th>\n",
       "      <td>-0.426108</td>\n",
       "    </tr>\n",
       "    <tr>\n",
       "      <th>Total_Trans_Ct</th>\n",
       "      <td>-0.527872</td>\n",
       "    </tr>\n",
       "  </tbody>\n",
       "</table>\n",
       "</div>"
      ],
      "text/plain": [
       "                           Problem\n",
       "Problem                   1.000000\n",
       "Contacts_Count_12_mon     0.231497\n",
       "Months_Inactive_12_mon    0.185385\n",
       "Dependent_count           0.048197\n",
       "Less_than_40K             0.043104\n",
       "college_or_above          0.027660\n",
       "Customer_Age_43-50        0.014575\n",
       "Months_on_book            0.007891\n",
       "Customer_Age_50-68        0.007578\n",
       "Avg_Open_To_Buy          -0.008899\n",
       "Customer_Age_0-43        -0.023738\n",
       "Married                  -0.041338\n",
       "Male                     -0.051232\n",
       "Credit_Limit             -0.074560\n",
       "Total_Amt_Chng_Q4_Q1     -0.107253\n",
       "Total_Relationship_Count -0.180775\n",
       "Avg_Utilization_Ratio    -0.305818\n",
       "Total_Revolving_Bal      -0.387944\n",
       "Total_Trans_Amt          -0.393252\n",
       "Total_Ct_Chng_Q4_Q1      -0.426108\n",
       "Total_Trans_Ct           -0.527872"
      ]
     },
     "execution_count": 3,
     "metadata": {},
     "output_type": "execute_result"
    }
   ],
   "source": [
    "data.corr()['Problem'].sort_values(ascending=False).to_frame()"
   ]
  },
  {
   "cell_type": "code",
   "execution_count": 4,
   "id": "a3131838",
   "metadata": {},
   "outputs": [],
   "source": [
    "top_03_problema = data.corr()['Problem'].sort_values(ascending=False)[1:4]\n",
    "top_03_nao_problema = data.corr()['Problem'].sort_values(ascending=True)[:3]"
   ]
  },
  {
   "cell_type": "code",
   "execution_count": 5,
   "id": "5ff0b68e",
   "metadata": {
    "scrolled": true
   },
   "outputs": [
    {
     "data": {
      "text/plain": [
       "Contacts_Count_12_mon     0.231497\n",
       "Months_Inactive_12_mon    0.185385\n",
       "Dependent_count           0.048197\n",
       "Name: Problem, dtype: float64"
      ]
     },
     "execution_count": 5,
     "metadata": {},
     "output_type": "execute_result"
    }
   ],
   "source": [
    "top_03_problema"
   ]
  },
  {
   "cell_type": "code",
   "execution_count": 6,
   "id": "6bbfc560",
   "metadata": {
    "scrolled": false
   },
   "outputs": [
    {
     "data": {
      "text/plain": [
       "Total_Trans_Ct        -0.527872\n",
       "Total_Ct_Chng_Q4_Q1   -0.426108\n",
       "Total_Trans_Amt       -0.393252\n",
       "Name: Problem, dtype: float64"
      ]
     },
     "execution_count": 6,
     "metadata": {},
     "output_type": "execute_result"
    }
   ],
   "source": [
    "top_03_nao_problema"
   ]
  },
  {
   "cell_type": "code",
   "execution_count": 7,
   "id": "05f3035b",
   "metadata": {},
   "outputs": [
    {
     "data": {
      "image/png": "[encoded data removed]",
      "text/plain": [
       "<Figure size 432x288 with 1 Axes>"
      ]
     },
     "metadata": {},
     "output_type": "display_data"
    }
   ],
   "source": [
    "#Total_Revolving_Bal\n",
    "\n",
    "y = []\n",
    "x = []\n",
    "\n",
    "y.append(data.query('Problem == 0')['Total_Revolving_Bal'].mean())\n",
    "y.append(data.query('Problem == 1')['Total_Revolving_Bal'].mean())\n",
    "\n",
    "x.append('Não gerou problema')\n",
    "x.append('Gerou algum problema')\n",
    "\n",
    "sns.set_style('whitegrid')\n",
    "\n",
    "ax = sns.barplot(x=x, y=y, alpha=0.9, palette='Greens_r')\n",
    "\n",
    "ax.text(x=-0.75,\n",
    "        y=1570,\n",
    "        s='Podemos aumentar o saldo rotativo do cliente com a empresa',\n",
    "        fontsize=16, weight='bold')\n",
    "\n",
    "ax.text(x=-0.75,\n",
    "        y=1460,\n",
    "        s='Pessoas com maior saldo rotativo tendem a não gerar problemas.',\n",
    "        fontsize=12)\n",
    "\n",
    "ax.text(x=-0.67,\n",
    "        y=1280,\n",
    "        s='Saldo rotativo total no cartão de crédito para cada pessoa (em média)')\n",
    "\n",
    "#plt.xlabel('Problema')\n",
    "\n",
    "plt.savefig('../Imagens/saldo_rotativo.jpeg', bbox_inches='tight')\n",
    "plt.show()"
   ]
  },
  {
   "cell_type": "code",
   "execution_count": 8,
   "id": "2b8b5014",
   "metadata": {},
   "outputs": [
    {
     "data": {
      "image/png": "[encoded data removed]",
      "text/plain": [
       "<Figure size 432x288 with 1 Axes>"
      ]
     },
     "metadata": {},
     "output_type": "display_data"
    }
   ],
   "source": [
    "y = []\n",
    "x = []\n",
    "\n",
    "y.append(data.query('Problem == 0')['Avg_Utilization_Ratio'].mean())\n",
    "y.append(data.query('Problem == 1')['Avg_Utilization_Ratio'].mean())\n",
    "\n",
    "x.append('Não gerou problema')\n",
    "x.append('Gerou algum problema')\n",
    "\n",
    "sns.set_style('whitegrid')\n",
    "\n",
    "ax = sns.barplot(x=x, y=y, alpha=0.8, palette='Reds')\n",
    "\n",
    "ax.text(x=-0.77,\n",
    "        y=0.23,\n",
    "        s='Podemos estimular nossos clientes a serem mais ativos',\n",
    "        fontsize=16, weight='bold')\n",
    "\n",
    "ax.text(x=-0.77,\n",
    "        y=0.213,\n",
    "        s='Quem utiliza mais o cartão de crédito tende a não gerar problemas',\n",
    "        fontsize=12)\n",
    "\n",
    "ax.text(x=-0.65,\n",
    "        y=0.19,\n",
    "        s='Taxa média de utilização do cartão por pessoa')\n",
    "\n",
    "#plt.xlabel('Problema')\n",
    "\n",
    "plt.savefig('../Imagens/utilizacao_do_cartao.jpeg', bbox_inches='tight')\n",
    "plt.show()"
   ]
  },
  {
   "cell_type": "code",
   "execution_count": 9,
   "id": "27dfce22",
   "metadata": {},
   "outputs": [
    {
     "data": {
      "image/png": "[encoded data removed]",
      "text/plain": [
       "<Figure size 432x288 with 1 Axes>"
      ]
     },
     "metadata": {},
     "output_type": "display_data"
    }
   ],
   "source": [
    "y = []\n",
    "x = []\n",
    "\n",
    "y.append(data.query('Problem == 0')['Total_Trans_Amt'].mean())\n",
    "y.append(data.query('Problem == 1')['Total_Trans_Amt'].mean())\n",
    "\n",
    "x.append('Não gerou problema')\n",
    "x.append('Gerou algum problema')\n",
    "\n",
    "sns.set_style('whitegrid')\n",
    "\n",
    "ax = sns.barplot(x=x, y=y, alpha=0.9, palette='Oranges_r')\n",
    "\n",
    "ax.text(x=-0.8,\n",
    "        y=4400,\n",
    "        s='Precisamos estimular nossos clientes a serem mais ativos',\n",
    "        fontsize=16, weight='bold')\n",
    "\n",
    "ax.text(x=-0.8,\n",
    "        y=4100,\n",
    "        s='Pessoas que movimentam mais dinheiro no ano tendem a não gerarem problemas',\n",
    "        fontsize=12)\n",
    "\n",
    "ax.text(x=-0.66,\n",
    "        y=3600,\n",
    "        s='Quantidade de dólares movimentada nos últimos 12 meses em média por pessoa')\n",
    "\n",
    "plt.savefig('../Imagens/dinheiro_movimentado.jpeg', bbox_inches='tight')\n",
    "plt.show()"
   ]
  },
  {
   "cell_type": "code",
   "execution_count": 10,
   "id": "4945a9c0",
   "metadata": {},
   "outputs": [
    {
     "data": {
      "image/png": "[encoded data removed]",
      "text/plain": [
       "<Figure size 432x288 with 1 Axes>"
      ]
     },
     "metadata": {},
     "output_type": "display_data"
    }
   ],
   "source": [
    "y = []\n",
    "x = []\n",
    "\n",
    "y.append(data.query('Problem == 0')['Total_Trans_Ct'].mean())\n",
    "y.append(data.query('Problem == 1')['Total_Trans_Ct'].mean())\n",
    "\n",
    "x.append('Não gerou problema')\n",
    "x.append('Gerou algum problema')\n",
    "\n",
    "sns.set_style('whitegrid')\n",
    "\n",
    "ax = sns.barplot(x=x, y=y, alpha=0.9, palette='Blues_r')\n",
    "\n",
    "ax.text(x=-0.75,\n",
    "        y=81,\n",
    "        s='Podemos estimular nossos clientes a serem mais ativos',\n",
    "        fontsize=16, weight='bold')\n",
    "\n",
    "ax.text(x=-0.75,\n",
    "        y=76,\n",
    "        s='Pessoas que fazem mais transações no ano tendem a não gerarem problemas',\n",
    "        fontsize=12)\n",
    "\n",
    "ax.text(x=-0.6,\n",
    "        y=67,\n",
    "        s='Quantidade média de transações feitas nos últimos 12 meses por pessoa')\n",
    "\n",
    "\n",
    "plt.savefig('../Imagens/num_transacoes.jpeg', bbox_inches='tight')\n",
    "plt.show()"
   ]
  },
  {
   "cell_type": "code",
   "execution_count": 11,
   "id": "664230b5",
   "metadata": {},
   "outputs": [
    {
     "data": {
      "text/plain": [
       "8163860.950000001"
      ]
     },
     "execution_count": 11,
     "metadata": {},
     "output_type": "execute_result"
    }
   ],
   "source": [
    "data.query('Problem == 1')['Credit_Limit'].sum()"
   ]
  },
  {
   "cell_type": "code",
   "execution_count": 12,
   "id": "962fe20b",
   "metadata": {},
   "outputs": [
    {
     "data": {
      "text/plain": [
       "5017.7387523048565"
      ]
     },
     "execution_count": 12,
     "metadata": {},
     "output_type": "execute_result"
    }
   ],
   "source": [
    "data.query('Problem == 1')['Credit_Limit'].mean()"
   ]
  },
  {
   "cell_type": "code",
   "execution_count": 13,
   "id": "14d1b5e7",
   "metadata": {},
   "outputs": [
    {
     "name": "stderr",
     "output_type": "stream",
     "text": [
      "C:\\Users\\vinip\\Anaconda3\\envs\\tf\\lib\\site-packages\\sklearn\\base.py:493: FutureWarning: The feature names should match those that were passed during fit. Starting version 1.2, an error will be raised.\n",
      "Feature names unseen at fit time:\n",
      "- Less_than_40K\n",
      "Feature names seen at fit time, yet now missing:\n",
      "- Less_than_$40K\n",
      "\n",
      "  warnings.warn(message, FutureWarning)\n"
     ]
    }
   ],
   "source": [
    "arq_scaler = open('../Arquivos/scaler.pk', 'rb')\n",
    "arq_model = open('../Arquivos/modelo.pk', 'rb')\n",
    "\n",
    "X, y = data.drop('Problem', axis=1), data['Problem']\n",
    "\n",
    "scaler = pickle.load(arq_scaler)\n",
    "\n",
    "X_train, X_test, y_train, y_test = train_test_split(X, y, random_state=7, test_size=0.3)\n",
    "\n",
    "X_test = scaler.transform(X_test)\n",
    "\n",
    "model = pickle.load(arq_model)\n",
    "\n",
    "matrix = confusion_matrix(y_test, model.predict(X_test))\n",
    "\n",
    "arq_scaler.close()"
   ]
  },
  {
   "cell_type": "code",
   "execution_count": 14,
   "id": "4deb66a1",
   "metadata": {},
   "outputs": [],
   "source": [
    "nao_verdadeiro = matrix[0]\n",
    "sim_verdadeiro = matrix[1]"
   ]
  },
  {
   "cell_type": "code",
   "execution_count": 15,
   "id": "c1192968",
   "metadata": {},
   "outputs": [
    {
     "data": {
      "text/plain": [
       "array([415,  65], dtype=int64)"
      ]
     },
     "execution_count": 15,
     "metadata": {},
     "output_type": "execute_result"
    }
   ],
   "source": [
    "nao_verdadeiro"
   ]
  },
  {
   "cell_type": "code",
   "execution_count": 16,
   "id": "363cc663",
   "metadata": {},
   "outputs": [
    {
     "data": {
      "text/plain": [
       "array([ 88, 409], dtype=int64)"
      ]
     },
     "execution_count": 16,
     "metadata": {},
     "output_type": "execute_result"
    }
   ],
   "source": [
    "sim_verdadeiro"
   ]
  },
  {
   "cell_type": "code",
   "execution_count": 17,
   "id": "5380324b",
   "metadata": {},
   "outputs": [],
   "source": [
    "total = sim_verdadeiro[0] + sim_verdadeiro[1] + nao_verdadeiro[0] + nao_verdadeiro[1]\n",
    "total_erros = nao_verdadeiro[1] + sim_verdadeiro[0]\n",
    "total_acertos = total - total_erros"
   ]
  },
  {
   "cell_type": "code",
   "execution_count": 18,
   "id": "72ef010e",
   "metadata": {
    "scrolled": true
   },
   "outputs": [
    {
     "data": {
      "text/plain": [
       "977"
      ]
     },
     "execution_count": 18,
     "metadata": {},
     "output_type": "execute_result"
    }
   ],
   "source": [
    "total"
   ]
  },
  {
   "cell_type": "code",
   "execution_count": 19,
   "id": "61662b06",
   "metadata": {},
   "outputs": [
    {
     "data": {
      "text/plain": [
       "153"
      ]
     },
     "execution_count": 19,
     "metadata": {},
     "output_type": "execute_result"
    }
   ],
   "source": [
    "total_erros"
   ]
  },
  {
   "cell_type": "code",
   "execution_count": 20,
   "id": "6d3e36f8",
   "metadata": {},
   "outputs": [
    {
     "data": {
      "text/plain": [
       "0.15660184237461616"
      ]
     },
     "execution_count": 20,
     "metadata": {},
     "output_type": "execute_result"
    }
   ],
   "source": [
    "total_erros / total"
   ]
  },
  {
   "cell_type": "code",
   "execution_count": 21,
   "id": "5478f9b6",
   "metadata": {},
   "outputs": [
    {
     "data": {
      "text/plain": [
       "0.8433981576253838"
      ]
     },
     "execution_count": 21,
     "metadata": {},
     "output_type": "execute_result"
    }
   ],
   "source": [
    "total_acertos / total"
   ]
  },
  {
   "cell_type": "code",
   "execution_count": 22,
   "id": "cd1d23ee",
   "metadata": {},
   "outputs": [
    {
     "data": {
      "text/plain": [
       "0.5751633986928104"
      ]
     },
     "execution_count": 22,
     "metadata": {},
     "output_type": "execute_result"
    }
   ],
   "source": [
    "#Falso negativo\n",
    "sim_verdadeiro[0] / total_erros"
   ]
  },
  {
   "cell_type": "code",
   "execution_count": 23,
   "id": "c6a0cf32",
   "metadata": {},
   "outputs": [
    {
     "data": {
      "text/plain": [
       "0.42483660130718953"
      ]
     },
     "execution_count": 23,
     "metadata": {},
     "output_type": "execute_result"
    }
   ],
   "source": [
    "#Falso positivo\n",
    "nao_verdadeiro[1] / total_erros"
   ]
  },
  {
   "cell_type": "markdown",
   "id": "2c11ad7f",
   "metadata": {},
   "source": [
    "- 84% de acertos\n",
    "- 16% de erros\n",
    "\n",
    "\n",
    "- dos erros cometidos:\n",
    "    - 58% foram falsos negativos\n",
    "    - 42% foram falsos positivos"
   ]
  },
  {
   "cell_type": "code",
   "execution_count": null,
   "id": "56edef40",
   "metadata": {},
   "outputs": [],
   "source": []
  }
 ],
 "metadata": {
  "kernelspec": {
   "display_name": "Python 3 (ipykernel)",
   "language": "python",
   "name": "python3"
  },
  "language_info": {
   "codemirror_mode": {
    "name": "ipython",
    "version": 3
   },
   "file_extension": ".py",
   "mimetype": "text/x-python",
   "name": "python",
   "nbconvert_exporter": "python",
   "pygments_lexer": "ipython3",
   "version": "3.9.12"
  }
 },
 "nbformat": 4,
 "nbformat_minor": 5
}
