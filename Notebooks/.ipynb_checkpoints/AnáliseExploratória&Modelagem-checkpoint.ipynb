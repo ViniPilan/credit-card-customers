{
 "cells": [
  {
   "cell_type": "code",
   "execution_count": 1,
   "id": "14a0be3b",
   "metadata": {},
   "outputs": [],
   "source": [
    "import zipfile\n",
    "\n",
    "import numpy as np\n",
    "import pandas as pd\n",
    "import matplotlib.pyplot as plt\n",
    "import seaborn as sns\n",
    "\n",
    "from sklearn.preprocessing import StandardScaler\n",
    "from sklearn.model_selection import train_test_split\n",
    "from sklearn.linear_model import LogisticRegression\n",
    "\n",
    "from skopt import BayesSearchCV\n",
    "from skopt.space import Integer, Real, Categorical\n",
    "\n",
    "from sklearn.metrics import precision_score, accuracy_score, confusion_matrix, recall_score\n",
    "\n",
    "import pickle\n",
    "\n",
    "import warnings\n",
    "warnings.filterwarnings(\"ignore\")\n",
    "\n",
    "np.random.seed(13)"
   ]
  },
  {
   "cell_type": "markdown",
   "id": "9d03f268",
   "metadata": {},
   "source": [
    "# Análise exploratória dos dados e Modelagem\n",
    "\n",
    "## Problema abordado\n",
    "\n",
    "Sintetizar uma forma prever o risco de determinado cliente gerar algum problema para a empresa de cartão de crédito.\n",
    "\n",
    "## Sobre os dados\n",
    "\n",
    "Os dados abordados são do data set [Credit Card Customers](https://www.kaggle.com/datasets/sakshigoyal7/credit-card-customers) do Kaggle. Informações de cada *feature* podem ser vistas abaixo:\n",
    "\n",
    "Nome da coluna | Conteúdo\n",
    "---------|---------\n",
    "CLIENTNUM | Client number. Unique identifier for the customer holding the account \n",
    "Attrition_Flag | Internal event (customer activity) variable - if the account is closed then 1 else 0\n",
    "Customer_Age | Demographic variable - Customer's Age in Years\n",
    "Gender | Demographic variable - M=Male, F=Female\n",
    "Dependent_count | Demographic variable - Number of dependents\n",
    "Education_Level | Demographic variable - Educational Qualification of the account holder example: high school, college graduate, etc.)\n",
    "Marital_Status | Demographic variable - Married, Single, Divorced, Unknown\n",
    "Income_Category | Demographic variable - Annual Income Category of the account holder (< $40K, $40K - 60K, $60K - $80K, $80K-$120K, > $120K, Unknown)\n",
    "Card_Category | Product Variable - Type of Card (Blue, Silver, Gold, Platinum)\n",
    "Months_on_book | Period of relationship with bank\n",
    "Total_Relationship_Count | Total no. of products held by the customer\n",
    "Months_Inactive_12_mon | No. of months inactive in the last 12 months\n",
    "Contacts_Count_12_mon | No. of Contacts in the last 12 months\n",
    "Credit_Limit | Credit Limit on the Credit Card\n",
    "Total_Revolving_Bal | Total Revolving Balance on the Credit Card\n",
    "Avg_Open_To_Buy | Open to Buy Credit Line (Average of last 12 months)\n",
    "Total_Amt_Chng_Q4_Q1 | Change in Transaction Amount (Q4 over Q1)\n",
    "Total_Trans_Amt | Total Transaction Amount (Last 12 months)\n",
    "Total_Trans_Ct | Total Transaction Count (Last 12 months)\n",
    "Total_Ct_Chng_Q4_Q1 | Change in Transaction Count (Q4 over Q1)\n",
    "Avg_Utilization_Ratio | Average Card Utilization Ratio"
   ]
  },
  {
   "cell_type": "markdown",
   "id": "5e0ab3fb",
   "metadata": {},
   "source": [
    "### Pré processamento"
   ]
  },
  {
   "cell_type": "markdown",
   "id": "a4b0e702",
   "metadata": {},
   "source": [
    "#### Acessando dados"
   ]
  },
  {
   "cell_type": "code",
   "execution_count": 2,
   "id": "9da9516c",
   "metadata": {},
   "outputs": [
    {
     "name": "stdout",
     "output_type": "stream",
     "text": [
      "Downloading credit-card-customers.zip to C:\\Users\\vinip\\Desktop\\credit-projects\\credit-card-risk-estimator\\Notebooks\n",
      "\n"
     ]
    },
    {
     "name": "stderr",
     "output_type": "stream",
     "text": [
      "\n",
      "  0%|          | 0.00/379k [00:00<?, ?B/s]\n",
      "100%|##########| 379k/379k [00:00<00:00, 827kB/s]\n",
      "100%|##########| 379k/379k [00:00<00:00, 827kB/s]\n"
     ]
    }
   ],
   "source": [
    "#!kaggle datasets list -s Credit-Card\n",
    "!kaggle datasets download sakshigoyal7/credit-card-customers"
   ]
  },
  {
   "cell_type": "code",
   "execution_count": 3,
   "id": "31d1d457",
   "metadata": {},
   "outputs": [],
   "source": [
    "with zipfile.ZipFile('credit-card-customers.zip', 'r') as arq:\n",
    "    arq.extractall('../Dados/')"
   ]
  },
  {
   "cell_type": "code",
   "execution_count": 4,
   "id": "5ef25c43",
   "metadata": {},
   "outputs": [],
   "source": [
    "data = pd.read_csv('../Dados/BankChurners.csv').drop(columns={'Naive_Bayes_Classifier_Attrition_Flag_Card_Category_Contacts_Count_12_mon_Dependent_count_Education_Level_Months_Inactive_12_mon_1',\n",
    "                                                          'Naive_Bayes_Classifier_Attrition_Flag_Card_Category_Contacts_Count_12_mon_Dependent_count_Education_Level_Months_Inactive_12_mon_2'})"
   ]
  },
  {
   "cell_type": "code",
   "execution_count": 5,
   "id": "56581edb",
   "metadata": {
    "scrolled": true
   },
   "outputs": [
    {
     "data": {
      "text/html": [
       "<div>\n",
       "<style scoped>\n",
       "    .dataframe tbody tr th:only-of-type {\n",
       "        vertical-align: middle;\n",
       "    }\n",
       "\n",
       "    .dataframe tbody tr th {\n",
       "        vertical-align: top;\n",
       "    }\n",
       "\n",
       "    .dataframe thead th {\n",
       "        text-align: right;\n",
       "    }\n",
       "</style>\n",
       "<table border=\"1\" class=\"dataframe\">\n",
       "  <thead>\n",
       "    <tr style=\"text-align: right;\">\n",
       "      <th></th>\n",
       "      <th>CLIENTNUM</th>\n",
       "      <th>Attrition_Flag</th>\n",
       "      <th>Customer_Age</th>\n",
       "      <th>Gender</th>\n",
       "      <th>Dependent_count</th>\n",
       "      <th>Education_Level</th>\n",
       "      <th>Marital_Status</th>\n",
       "      <th>Income_Category</th>\n",
       "      <th>Card_Category</th>\n",
       "      <th>Months_on_book</th>\n",
       "      <th>...</th>\n",
       "      <th>Months_Inactive_12_mon</th>\n",
       "      <th>Contacts_Count_12_mon</th>\n",
       "      <th>Credit_Limit</th>\n",
       "      <th>Total_Revolving_Bal</th>\n",
       "      <th>Avg_Open_To_Buy</th>\n",
       "      <th>Total_Amt_Chng_Q4_Q1</th>\n",
       "      <th>Total_Trans_Amt</th>\n",
       "      <th>Total_Trans_Ct</th>\n",
       "      <th>Total_Ct_Chng_Q4_Q1</th>\n",
       "      <th>Avg_Utilization_Ratio</th>\n",
       "    </tr>\n",
       "  </thead>\n",
       "  <tbody>\n",
       "    <tr>\n",
       "      <th>0</th>\n",
       "      <td>768805383</td>\n",
       "      <td>Existing Customer</td>\n",
       "      <td>45</td>\n",
       "      <td>M</td>\n",
       "      <td>3</td>\n",
       "      <td>High School</td>\n",
       "      <td>Married</td>\n",
       "      <td>$60K - $80K</td>\n",
       "      <td>Blue</td>\n",
       "      <td>39</td>\n",
       "      <td>...</td>\n",
       "      <td>1</td>\n",
       "      <td>3</td>\n",
       "      <td>12691.0</td>\n",
       "      <td>777</td>\n",
       "      <td>11914.0</td>\n",
       "      <td>1.335</td>\n",
       "      <td>1144</td>\n",
       "      <td>42</td>\n",
       "      <td>1.625</td>\n",
       "      <td>0.061</td>\n",
       "    </tr>\n",
       "    <tr>\n",
       "      <th>1</th>\n",
       "      <td>818770008</td>\n",
       "      <td>Existing Customer</td>\n",
       "      <td>49</td>\n",
       "      <td>F</td>\n",
       "      <td>5</td>\n",
       "      <td>Graduate</td>\n",
       "      <td>Single</td>\n",
       "      <td>Less than $40K</td>\n",
       "      <td>Blue</td>\n",
       "      <td>44</td>\n",
       "      <td>...</td>\n",
       "      <td>1</td>\n",
       "      <td>2</td>\n",
       "      <td>8256.0</td>\n",
       "      <td>864</td>\n",
       "      <td>7392.0</td>\n",
       "      <td>1.541</td>\n",
       "      <td>1291</td>\n",
       "      <td>33</td>\n",
       "      <td>3.714</td>\n",
       "      <td>0.105</td>\n",
       "    </tr>\n",
       "    <tr>\n",
       "      <th>2</th>\n",
       "      <td>713982108</td>\n",
       "      <td>Existing Customer</td>\n",
       "      <td>51</td>\n",
       "      <td>M</td>\n",
       "      <td>3</td>\n",
       "      <td>Graduate</td>\n",
       "      <td>Married</td>\n",
       "      <td>$80K - $120K</td>\n",
       "      <td>Blue</td>\n",
       "      <td>36</td>\n",
       "      <td>...</td>\n",
       "      <td>1</td>\n",
       "      <td>0</td>\n",
       "      <td>3418.0</td>\n",
       "      <td>0</td>\n",
       "      <td>3418.0</td>\n",
       "      <td>2.594</td>\n",
       "      <td>1887</td>\n",
       "      <td>20</td>\n",
       "      <td>2.333</td>\n",
       "      <td>0.000</td>\n",
       "    </tr>\n",
       "    <tr>\n",
       "      <th>3</th>\n",
       "      <td>769911858</td>\n",
       "      <td>Existing Customer</td>\n",
       "      <td>40</td>\n",
       "      <td>F</td>\n",
       "      <td>4</td>\n",
       "      <td>High School</td>\n",
       "      <td>Unknown</td>\n",
       "      <td>Less than $40K</td>\n",
       "      <td>Blue</td>\n",
       "      <td>34</td>\n",
       "      <td>...</td>\n",
       "      <td>4</td>\n",
       "      <td>1</td>\n",
       "      <td>3313.0</td>\n",
       "      <td>2517</td>\n",
       "      <td>796.0</td>\n",
       "      <td>1.405</td>\n",
       "      <td>1171</td>\n",
       "      <td>20</td>\n",
       "      <td>2.333</td>\n",
       "      <td>0.760</td>\n",
       "    </tr>\n",
       "    <tr>\n",
       "      <th>4</th>\n",
       "      <td>709106358</td>\n",
       "      <td>Existing Customer</td>\n",
       "      <td>40</td>\n",
       "      <td>M</td>\n",
       "      <td>3</td>\n",
       "      <td>Uneducated</td>\n",
       "      <td>Married</td>\n",
       "      <td>$60K - $80K</td>\n",
       "      <td>Blue</td>\n",
       "      <td>21</td>\n",
       "      <td>...</td>\n",
       "      <td>1</td>\n",
       "      <td>0</td>\n",
       "      <td>4716.0</td>\n",
       "      <td>0</td>\n",
       "      <td>4716.0</td>\n",
       "      <td>2.175</td>\n",
       "      <td>816</td>\n",
       "      <td>28</td>\n",
       "      <td>2.500</td>\n",
       "      <td>0.000</td>\n",
       "    </tr>\n",
       "  </tbody>\n",
       "</table>\n",
       "<p>5 rows × 21 columns</p>\n",
       "</div>"
      ],
      "text/plain": [
       "   CLIENTNUM     Attrition_Flag  Customer_Age Gender  Dependent_count  \\\n",
       "0  768805383  Existing Customer            45      M                3   \n",
       "1  818770008  Existing Customer            49      F                5   \n",
       "2  713982108  Existing Customer            51      M                3   \n",
       "3  769911858  Existing Customer            40      F                4   \n",
       "4  709106358  Existing Customer            40      M                3   \n",
       "\n",
       "  Education_Level Marital_Status Income_Category Card_Category  \\\n",
       "0     High School        Married     $60K - $80K          Blue   \n",
       "1        Graduate         Single  Less than $40K          Blue   \n",
       "2        Graduate        Married    $80K - $120K          Blue   \n",
       "3     High School        Unknown  Less than $40K          Blue   \n",
       "4      Uneducated        Married     $60K - $80K          Blue   \n",
       "\n",
       "   Months_on_book  ...  Months_Inactive_12_mon  Contacts_Count_12_mon  \\\n",
       "0              39  ...                       1                      3   \n",
       "1              44  ...                       1                      2   \n",
       "2              36  ...                       1                      0   \n",
       "3              34  ...                       4                      1   \n",
       "4              21  ...                       1                      0   \n",
       "\n",
       "   Credit_Limit  Total_Revolving_Bal  Avg_Open_To_Buy  Total_Amt_Chng_Q4_Q1  \\\n",
       "0       12691.0                  777          11914.0                 1.335   \n",
       "1        8256.0                  864           7392.0                 1.541   \n",
       "2        3418.0                    0           3418.0                 2.594   \n",
       "3        3313.0                 2517            796.0                 1.405   \n",
       "4        4716.0                    0           4716.0                 2.175   \n",
       "\n",
       "   Total_Trans_Amt  Total_Trans_Ct  Total_Ct_Chng_Q4_Q1  Avg_Utilization_Ratio  \n",
       "0             1144              42                1.625                  0.061  \n",
       "1             1291              33                3.714                  0.105  \n",
       "2             1887              20                2.333                  0.000  \n",
       "3             1171              20                2.333                  0.760  \n",
       "4              816              28                2.500                  0.000  \n",
       "\n",
       "[5 rows x 21 columns]"
      ]
     },
     "execution_count": 5,
     "metadata": {},
     "output_type": "execute_result"
    }
   ],
   "source": [
    "data.head()"
   ]
  },
  {
   "cell_type": "code",
   "execution_count": 6,
   "id": "b0d6cf49",
   "metadata": {
    "scrolled": false
   },
   "outputs": [
    {
     "data": {
      "text/plain": [
       "Index(['CLIENTNUM', 'Attrition_Flag', 'Customer_Age', 'Gender',\n",
       "       'Dependent_count', 'Education_Level', 'Marital_Status',\n",
       "       'Income_Category', 'Card_Category', 'Months_on_book',\n",
       "       'Total_Relationship_Count', 'Months_Inactive_12_mon',\n",
       "       'Contacts_Count_12_mon', 'Credit_Limit', 'Total_Revolving_Bal',\n",
       "       'Avg_Open_To_Buy', 'Total_Amt_Chng_Q4_Q1', 'Total_Trans_Amt',\n",
       "       'Total_Trans_Ct', 'Total_Ct_Chng_Q4_Q1', 'Avg_Utilization_Ratio'],\n",
       "      dtype='object')"
      ]
     },
     "execution_count": 6,
     "metadata": {},
     "output_type": "execute_result"
    }
   ],
   "source": [
    "data.columns"
   ]
  },
  {
   "cell_type": "markdown",
   "id": "7d40425c",
   "metadata": {},
   "source": [
    "#### Balanceando dados a partir da variável target"
   ]
  },
  {
   "cell_type": "code",
   "execution_count": 7,
   "id": "51bd4190",
   "metadata": {
    "scrolled": false
   },
   "outputs": [
    {
     "data": {
      "text/plain": [
       "Existing Customer    8500\n",
       "Attrited Customer    1627\n",
       "Name: Attrition_Flag, dtype: int64"
      ]
     },
     "metadata": {},
     "output_type": "display_data"
    },
    {
     "data": {
      "text/plain": [
       "0    1627\n",
       "1    1627\n",
       "Name: Problem, dtype: int64"
      ]
     },
     "metadata": {},
     "output_type": "display_data"
    }
   ],
   "source": [
    "display(data['Attrition_Flag'].value_counts(normalize=False))\n",
    "data['Attrition_Flag'] = data['Attrition_Flag'].apply(lambda x:1 if x == 'Attrited Customer' else 0)\n",
    "data.rename({'Attrition_Flag':'Problem'}, axis=1, inplace=True)\n",
    "\n",
    "i= data.query('Problem == 0').index\n",
    "i_sample = np.random.choice(i, len(data.query('Problem == 1').index.to_list()))\n",
    "\n",
    "data = pd.concat([data.loc[i_sample], \n",
    "                  data.query('Problem == 1')], ignore_index=False).sort_index()\n",
    "\n",
    "display(data['Problem'].value_counts(normalize=False))"
   ]
  },
  {
   "cell_type": "markdown",
   "id": "f8d8fb21",
   "metadata": {},
   "source": [
    "#### Analisando dados do tipo 'object'"
   ]
  },
  {
   "cell_type": "code",
   "execution_count": 8,
   "id": "bc0adfde",
   "metadata": {
    "scrolled": false
   },
   "outputs": [
    {
     "name": "stdout",
     "output_type": "stream",
     "text": [
      "Gender\n"
     ]
    },
    {
     "data": {
      "text/plain": [
       "F    1777\n",
       "M    1477\n",
       "Name: Gender, dtype: int64"
      ]
     },
     "metadata": {},
     "output_type": "display_data"
    },
    {
     "name": "stdout",
     "output_type": "stream",
     "text": [
      "Education_Level\n"
     ]
    },
    {
     "data": {
      "text/plain": [
       "Graduate         961\n",
       "High School      658\n",
       "Unknown          495\n",
       "Uneducated       490\n",
       "College          314\n",
       "Post-Graduate    177\n",
       "Doctorate        159\n",
       "Name: Education_Level, dtype: int64"
      ]
     },
     "metadata": {},
     "output_type": "display_data"
    },
    {
     "name": "stdout",
     "output_type": "stream",
     "text": [
      "Marital_Status\n"
     ]
    },
    {
     "data": {
      "text/plain": [
       "Married     1485\n",
       "Single      1293\n",
       "Divorced     239\n",
       "Unknown      237\n",
       "Name: Marital_Status, dtype: int64"
      ]
     },
     "metadata": {},
     "output_type": "display_data"
    },
    {
     "name": "stdout",
     "output_type": "stream",
     "text": [
      "Income_Category\n"
     ]
    },
    {
     "data": {
      "text/plain": [
       "Less than $40K    1169\n",
       "$40K - $60K        582\n",
       "$80K - $120K       479\n",
       "$60K - $80K        426\n",
       "Unknown            359\n",
       "$120K +            239\n",
       "Name: Income_Category, dtype: int64"
      ]
     },
     "metadata": {},
     "output_type": "display_data"
    },
    {
     "name": "stdout",
     "output_type": "stream",
     "text": [
      "Card_Category\n"
     ]
    },
    {
     "data": {
      "text/plain": [
       "Blue        3018\n",
       "Silver       186\n",
       "Gold          43\n",
       "Platinum       7\n",
       "Name: Card_Category, dtype: int64"
      ]
     },
     "metadata": {},
     "output_type": "display_data"
    }
   ],
   "source": [
    "for column in data.columns:\n",
    "    if data[column].dtype == 'object':\n",
    "        print(column)\n",
    "        display(data[column].value_counts())\n",
    "        \n",
    "    else:\n",
    "        pass"
   ]
  },
  {
   "cell_type": "markdown",
   "id": "804580ed",
   "metadata": {},
   "source": [
    "#### Corrigindo tipo dos dados"
   ]
  },
  {
   "cell_type": "code",
   "execution_count": 9,
   "id": "236873af",
   "metadata": {},
   "outputs": [],
   "source": [
    "data['Gender'] = data['Gender'].apply(lambda x:1 if x == 'M' else 0)\n",
    "data.rename({'Gender':'Male'}, axis=1, inplace=True)"
   ]
  },
  {
   "cell_type": "code",
   "execution_count": 10,
   "id": "941e623f",
   "metadata": {},
   "outputs": [
    {
     "data": {
      "text/plain": [
       "0    1643\n",
       "1    1611\n",
       "Name: college_or_above, dtype: int64"
      ]
     },
     "metadata": {},
     "output_type": "display_data"
    }
   ],
   "source": [
    "data['Education_Level'] = data['Education_Level'].apply(lambda x:1 if x in ['Post-Graduate', \n",
    "                                                                            'Doctorate',\n",
    "                                                                            'College',\n",
    "                                                                            'Graduate'] else 0)\n",
    "\n",
    "data.rename({'Education_Level':'college_or_above'}, axis=1, inplace=True)\n",
    "\n",
    "display(data['college_or_above'].value_counts())"
   ]
  },
  {
   "cell_type": "code",
   "execution_count": 11,
   "id": "075b4bf4",
   "metadata": {},
   "outputs": [
    {
     "data": {
      "text/plain": [
       "0    1769\n",
       "1    1485\n",
       "Name: Married, dtype: int64"
      ]
     },
     "execution_count": 11,
     "metadata": {},
     "output_type": "execute_result"
    }
   ],
   "source": [
    "data['Marital_Status'] = data['Marital_Status'].apply(lambda x:1 if x == 'Married' else 0)\n",
    "data.rename({'Marital_Status':'Married'}, axis=1, inplace=True)\n",
    "data['Married'].value_counts()"
   ]
  },
  {
   "cell_type": "code",
   "execution_count": 12,
   "id": "b16fc3cf",
   "metadata": {},
   "outputs": [
    {
     "data": {
      "text/plain": [
       "1    3018\n",
       "0     236\n",
       "Name: Blue_Card, dtype: int64"
      ]
     },
     "execution_count": 12,
     "metadata": {},
     "output_type": "execute_result"
    }
   ],
   "source": [
    "data['Card_Category'] = data['Card_Category'].apply(lambda x:1 if x == 'Blue' else 0)\n",
    "data.rename({'Card_Category':'Blue_Card'}, axis=1, inplace=True)\n",
    "\n",
    "data['Blue_Card'].value_counts()"
   ]
  },
  {
   "cell_type": "code",
   "execution_count": 13,
   "id": "fc0b3156",
   "metadata": {},
   "outputs": [
    {
     "data": {
      "text/plain": [
       "0    1726\n",
       "1    1528\n",
       "Name: Less_than_$40K, dtype: int64"
      ]
     },
     "execution_count": 13,
     "metadata": {},
     "output_type": "execute_result"
    }
   ],
   "source": [
    "data['Income_Category'] = data['Income_Category'].apply(lambda x:1 if x in ['Less than $40K',\n",
    "                                                                            'Unknown'] else 0)\n",
    "\n",
    "data.rename({'Income_Category':'Less_than_$40K'}, axis=1, inplace=True)\n",
    "\n",
    "data['Less_than_$40K'].value_counts()"
   ]
  },
  {
   "cell_type": "markdown",
   "id": "1804e66f",
   "metadata": {},
   "source": [
    "#### Analisando distribuições e anomalias (outliers)"
   ]
  },
  {
   "cell_type": "code",
   "execution_count": 14,
   "id": "87c08e26",
   "metadata": {},
   "outputs": [
    {
     "data": {
      "text/plain": [
       "(3254, 20)"
      ]
     },
     "execution_count": 14,
     "metadata": {},
     "output_type": "execute_result"
    }
   ],
   "source": [
    "data.drop('CLIENTNUM', axis=1, inplace=True)\n",
    "data.shape"
   ]
  },
  {
   "cell_type": "code",
   "execution_count": 15,
   "id": "45206a9a",
   "metadata": {},
   "outputs": [
    {
     "data": {
      "image/png": "[encoded data removed]",
      "text/plain": [
       "<Figure size 1008x1296 with 20 Axes>"
      ]
     },
     "metadata": {
      "needs_background": "light"
     },
     "output_type": "display_data"
    }
   ],
   "source": [
    "i = 0\n",
    "j = 0\n",
    "\n",
    "fig, ax = plt.subplots(5, 4, figsize=(14, 18), sharey=True)\n",
    "\n",
    "for column in data.columns:\n",
    "    ax[i][j].set_title(column)\n",
    "    data[column].plot(kind='hist', ax=ax[i][j])\n",
    "    j += 1\n",
    "    \n",
    "    if j % 4 == 0:\n",
    "        j = 0\n",
    "        i += 1"
   ]
  },
  {
   "cell_type": "markdown",
   "id": "0cc0a961",
   "metadata": {},
   "source": [
    "#### Tratamento das anomalias encontradas"
   ]
  },
  {
   "cell_type": "code",
   "execution_count": 16,
   "id": "cb498a6a",
   "metadata": {
    "scrolled": false
   },
   "outputs": [],
   "source": [
    "var_continuas = [#'Customer_Age',\n",
    "                 'Months_on_book',\n",
    "                 'Credit_Limit',\n",
    "                 'Total_Revolving_Bal',\n",
    "                 'Avg_Open_To_Buy',\n",
    "                 'Total_Amt_Chng_Q4_Q1',\n",
    "                 'Total_Trans_Amt',\n",
    "                 'Total_Trans_Ct',\n",
    "                 'Total_Ct_Chng_Q4_Q1',\n",
    "                 'Avg_Utilization_Ratio',\n",
    "                 'Months_Inactive_12_mon',\n",
    "                 'Contacts_Count_12_mon']\n",
    "\n",
    "for column in var_continuas:\n",
    "    limite = (data[column].quantile(0.75) - data[column].quantile(0.25))/2\n",
    "    median = data[column].median()\n",
    "    data[column] = data[column].apply(lambda x:(median+limite) if x >= (median+limite) else x)\n",
    "    data[column] = data[column].apply(lambda x:(median-limite) if x <= (median-limite) else x)"
   ]
  },
  {
   "cell_type": "code",
   "execution_count": 17,
   "id": "fc9f8f99",
   "metadata": {},
   "outputs": [],
   "source": [
    "data.drop('Blue_Card', axis=1, inplace=True) #Feature muito desbalanceada"
   ]
  },
  {
   "cell_type": "markdown",
   "id": "b08e3e55",
   "metadata": {},
   "source": [
    "#### Categorização de variáveis"
   ]
  },
  {
   "cell_type": "code",
   "execution_count": 18,
   "id": "6718d64c",
   "metadata": {},
   "outputs": [
    {
     "data": {
      "text/html": [
       "<div>\n",
       "<style scoped>\n",
       "    .dataframe tbody tr th:only-of-type {\n",
       "        vertical-align: middle;\n",
       "    }\n",
       "\n",
       "    .dataframe tbody tr th {\n",
       "        vertical-align: top;\n",
       "    }\n",
       "\n",
       "    .dataframe thead th {\n",
       "        text-align: right;\n",
       "    }\n",
       "</style>\n",
       "<table border=\"1\" class=\"dataframe\">\n",
       "  <thead>\n",
       "    <tr style=\"text-align: right;\">\n",
       "      <th></th>\n",
       "      <th>Customer_Age_0-43</th>\n",
       "      <th>Customer_Age_43-50</th>\n",
       "      <th>Customer_Age_50-68</th>\n",
       "    </tr>\n",
       "  </thead>\n",
       "  <tbody>\n",
       "    <tr>\n",
       "      <th>2</th>\n",
       "      <td>0</td>\n",
       "      <td>1</td>\n",
       "      <td>0</td>\n",
       "    </tr>\n",
       "    <tr>\n",
       "      <th>21</th>\n",
       "      <td>0</td>\n",
       "      <td>0</td>\n",
       "      <td>1</td>\n",
       "    </tr>\n",
       "    <tr>\n",
       "      <th>22</th>\n",
       "      <td>0</td>\n",
       "      <td>1</td>\n",
       "      <td>0</td>\n",
       "    </tr>\n",
       "    <tr>\n",
       "      <th>37</th>\n",
       "      <td>0</td>\n",
       "      <td>1</td>\n",
       "      <td>0</td>\n",
       "    </tr>\n",
       "    <tr>\n",
       "      <th>39</th>\n",
       "      <td>0</td>\n",
       "      <td>0</td>\n",
       "      <td>1</td>\n",
       "    </tr>\n",
       "    <tr>\n",
       "      <th>...</th>\n",
       "      <td>...</td>\n",
       "      <td>...</td>\n",
       "      <td>...</td>\n",
       "    </tr>\n",
       "    <tr>\n",
       "      <th>10121</th>\n",
       "      <td>0</td>\n",
       "      <td>0</td>\n",
       "      <td>1</td>\n",
       "    </tr>\n",
       "    <tr>\n",
       "      <th>10123</th>\n",
       "      <td>0</td>\n",
       "      <td>1</td>\n",
       "      <td>0</td>\n",
       "    </tr>\n",
       "    <tr>\n",
       "      <th>10124</th>\n",
       "      <td>0</td>\n",
       "      <td>1</td>\n",
       "      <td>0</td>\n",
       "    </tr>\n",
       "    <tr>\n",
       "      <th>10125</th>\n",
       "      <td>1</td>\n",
       "      <td>0</td>\n",
       "      <td>0</td>\n",
       "    </tr>\n",
       "    <tr>\n",
       "      <th>10126</th>\n",
       "      <td>0</td>\n",
       "      <td>1</td>\n",
       "      <td>0</td>\n",
       "    </tr>\n",
       "  </tbody>\n",
       "</table>\n",
       "<p>3254 rows × 3 columns</p>\n",
       "</div>"
      ],
      "text/plain": [
       "       Customer_Age_0-43  Customer_Age_43-50  Customer_Age_50-68\n",
       "2                      0                   1                   0\n",
       "21                     0                   0                   1\n",
       "22                     0                   1                   0\n",
       "37                     0                   1                   0\n",
       "39                     0                   0                   1\n",
       "...                  ...                 ...                 ...\n",
       "10121                  0                   0                   1\n",
       "10123                  0                   1                   0\n",
       "10124                  0                   1                   0\n",
       "10125                  1                   0                   0\n",
       "10126                  0                   1                   0\n",
       "\n",
       "[3254 rows x 3 columns]"
      ]
     },
     "metadata": {},
     "output_type": "display_data"
    }
   ],
   "source": [
    "q1 = int(data['Customer_Age'].quantile(0.334))\n",
    "q2 = int(data['Customer_Age'].quantile(0.667))\n",
    "q3 = int(data['Customer_Age'].max())\n",
    "\n",
    "labels = []\n",
    "labels.append(f'0-{q1}')\n",
    "labels.append(f'{q1}-{q2}')\n",
    "labels.append(f'{q2}-{q3}')\n",
    "\n",
    "data_credit = pd.get_dummies(pd.cut(data['Customer_Age'], bins=len(labels), labels=labels), \n",
    "                             prefix='Customer_Age')\n",
    "display(data_credit)\n",
    "\n",
    "data = pd.concat([data, data_credit], axis=1).drop('Customer_Age', axis=1)"
   ]
  },
  {
   "cell_type": "markdown",
   "id": "5445c625",
   "metadata": {},
   "source": [
    "### Processamento"
   ]
  },
  {
   "cell_type": "code",
   "execution_count": 19,
   "id": "7cccaa66",
   "metadata": {},
   "outputs": [],
   "source": [
    "data.to_csv('../Dados/BankChurners_preprocessed.csv', index=False)"
   ]
  },
  {
   "cell_type": "code",
   "execution_count": 20,
   "id": "506ffa91",
   "metadata": {},
   "outputs": [
    {
     "data": {
      "text/html": [
       "<div>\n",
       "<style scoped>\n",
       "    .dataframe tbody tr th:only-of-type {\n",
       "        vertical-align: middle;\n",
       "    }\n",
       "\n",
       "    .dataframe tbody tr th {\n",
       "        vertical-align: top;\n",
       "    }\n",
       "\n",
       "    .dataframe thead th {\n",
       "        text-align: right;\n",
       "    }\n",
       "</style>\n",
       "<table border=\"1\" class=\"dataframe\">\n",
       "  <thead>\n",
       "    <tr style=\"text-align: right;\">\n",
       "      <th></th>\n",
       "      <th>Problem</th>\n",
       "    </tr>\n",
       "  </thead>\n",
       "  <tbody>\n",
       "    <tr>\n",
       "      <th>Problem</th>\n",
       "      <td>1.000000</td>\n",
       "    </tr>\n",
       "    <tr>\n",
       "      <th>Contacts_Count_12_mon</th>\n",
       "      <td>0.231497</td>\n",
       "    </tr>\n",
       "    <tr>\n",
       "      <th>Months_Inactive_12_mon</th>\n",
       "      <td>0.185385</td>\n",
       "    </tr>\n",
       "    <tr>\n",
       "      <th>Dependent_count</th>\n",
       "      <td>0.048197</td>\n",
       "    </tr>\n",
       "    <tr>\n",
       "      <th>Less_than_$40K</th>\n",
       "      <td>0.043104</td>\n",
       "    </tr>\n",
       "    <tr>\n",
       "      <th>college_or_above</th>\n",
       "      <td>0.027660</td>\n",
       "    </tr>\n",
       "    <tr>\n",
       "      <th>Customer_Age_43-50</th>\n",
       "      <td>0.014575</td>\n",
       "    </tr>\n",
       "    <tr>\n",
       "      <th>Months_on_book</th>\n",
       "      <td>0.007891</td>\n",
       "    </tr>\n",
       "    <tr>\n",
       "      <th>Customer_Age_50-68</th>\n",
       "      <td>0.007578</td>\n",
       "    </tr>\n",
       "    <tr>\n",
       "      <th>Avg_Open_To_Buy</th>\n",
       "      <td>-0.008899</td>\n",
       "    </tr>\n",
       "    <tr>\n",
       "      <th>Customer_Age_0-43</th>\n",
       "      <td>-0.023738</td>\n",
       "    </tr>\n",
       "    <tr>\n",
       "      <th>Married</th>\n",
       "      <td>-0.041338</td>\n",
       "    </tr>\n",
       "    <tr>\n",
       "      <th>Male</th>\n",
       "      <td>-0.051232</td>\n",
       "    </tr>\n",
       "    <tr>\n",
       "      <th>Credit_Limit</th>\n",
       "      <td>-0.074560</td>\n",
       "    </tr>\n",
       "    <tr>\n",
       "      <th>Total_Amt_Chng_Q4_Q1</th>\n",
       "      <td>-0.107253</td>\n",
       "    </tr>\n",
       "    <tr>\n",
       "      <th>Total_Relationship_Count</th>\n",
       "      <td>-0.180775</td>\n",
       "    </tr>\n",
       "    <tr>\n",
       "      <th>Avg_Utilization_Ratio</th>\n",
       "      <td>-0.305818</td>\n",
       "    </tr>\n",
       "    <tr>\n",
       "      <th>Total_Revolving_Bal</th>\n",
       "      <td>-0.387944</td>\n",
       "    </tr>\n",
       "    <tr>\n",
       "      <th>Total_Trans_Amt</th>\n",
       "      <td>-0.393252</td>\n",
       "    </tr>\n",
       "    <tr>\n",
       "      <th>Total_Ct_Chng_Q4_Q1</th>\n",
       "      <td>-0.426108</td>\n",
       "    </tr>\n",
       "    <tr>\n",
       "      <th>Total_Trans_Ct</th>\n",
       "      <td>-0.527872</td>\n",
       "    </tr>\n",
       "  </tbody>\n",
       "</table>\n",
       "</div>"
      ],
      "text/plain": [
       "                           Problem\n",
       "Problem                   1.000000\n",
       "Contacts_Count_12_mon     0.231497\n",
       "Months_Inactive_12_mon    0.185385\n",
       "Dependent_count           0.048197\n",
       "Less_than_$40K            0.043104\n",
       "college_or_above          0.027660\n",
       "Customer_Age_43-50        0.014575\n",
       "Months_on_book            0.007891\n",
       "Customer_Age_50-68        0.007578\n",
       "Avg_Open_To_Buy          -0.008899\n",
       "Customer_Age_0-43        -0.023738\n",
       "Married                  -0.041338\n",
       "Male                     -0.051232\n",
       "Credit_Limit             -0.074560\n",
       "Total_Amt_Chng_Q4_Q1     -0.107253\n",
       "Total_Relationship_Count -0.180775\n",
       "Avg_Utilization_Ratio    -0.305818\n",
       "Total_Revolving_Bal      -0.387944\n",
       "Total_Trans_Amt          -0.393252\n",
       "Total_Ct_Chng_Q4_Q1      -0.426108\n",
       "Total_Trans_Ct           -0.527872"
      ]
     },
     "execution_count": 20,
     "metadata": {},
     "output_type": "execute_result"
    }
   ],
   "source": [
    "data.corr()['Problem'].sort_values(ascending=False).to_frame()"
   ]
  },
  {
   "cell_type": "markdown",
   "id": "668164ea",
   "metadata": {},
   "source": [
    "### Modelagem"
   ]
  },
  {
   "cell_type": "markdown",
   "id": "27745dd4",
   "metadata": {},
   "source": [
    "#### Separação (split) dos dados em treino e validação"
   ]
  },
  {
   "cell_type": "code",
   "execution_count": 21,
   "id": "b4cb9736",
   "metadata": {},
   "outputs": [],
   "source": [
    "X, y = data.drop('Problem', axis=1), data['Problem']\n",
    "\n",
    "scaler = StandardScaler()\n",
    "\n",
    "X_train, X_test, y_train, y_test = train_test_split(X, y, random_state=7, test_size=0.3)\n",
    "\n",
    "X_train = scaler.fit_transform(X_train)\n",
    "X_test = scaler.transform(X_test)"
   ]
  },
  {
   "cell_type": "markdown",
   "id": "eebfb8b7",
   "metadata": {},
   "source": [
    "#### Ajuste do modelo"
   ]
  },
  {
   "cell_type": "code",
   "execution_count": 22,
   "id": "16c78123",
   "metadata": {
    "scrolled": true
   },
   "outputs": [
    {
     "name": "stdout",
     "output_type": "stream",
     "text": [
      "Melhores parametros do modelo:  OrderedDict([('C', 21.380483009946776), ('random_state', 13)])\n"
     ]
    }
   ],
   "source": [
    "model = BayesSearchCV(LogisticRegression(),\n",
    "                     {\n",
    "                         'C':Real(1e-4, 1e+3, prior='log-uniform'),\n",
    "                         'random_state':Categorical([0,3,5,7,11,13,17])\n",
    "                     },\n",
    "                     n_jobs=-1,\n",
    "                     n_iter=50)\n",
    "\n",
    "model.fit(X_train, y_train)\n",
    "\n",
    "y_hat = model.predict(X_test)\n",
    "\n",
    "print('Melhores parametros do modelo: ', model.best_params_)"
   ]
  },
  {
   "cell_type": "markdown",
   "id": "0554e6f1",
   "metadata": {},
   "source": [
    "#### Avaliação (evaluation)"
   ]
  },
  {
   "cell_type": "code",
   "execution_count": 23,
   "id": "ca067088",
   "metadata": {
    "scrolled": false
   },
   "outputs": [
    {
     "name": "stdout",
     "output_type": "stream",
     "text": [
      "Score train:  0.839262187088274\n",
      "Score test:  0.8433981576253838\n",
      "\n",
      "Model precision:  0.8628691983122363\n",
      "\n",
      "Model recall:  0.8229376257545271\n"
     ]
    },
    {
     "data": {
      "image/png": "[encoded data removed]",
      "text/plain": [
       "<Figure size 432x288 with 1 Axes>"
      ]
     },
     "metadata": {
      "needs_background": "light"
     },
     "output_type": "display_data"
    }
   ],
   "source": [
    "print('Score train: ', accuracy_score(y_train, model.predict(X_train)))\n",
    "print('Score test: ', accuracy_score(y_test, y_hat))\n",
    "\n",
    "print('\\nModel precision: ', precision_score(y_test, y_hat))\n",
    "\n",
    "print('\\nModel recall: ', recall_score(y_test, y_hat))\n",
    "\n",
    "plt.title('Matriz de confusão do modelo\\n(Regressão Logística)', y=1.1)\n",
    "\n",
    "sns.heatmap(confusion_matrix(y_test, y_hat),\n",
    "            annot=True,\n",
    "            fmt='d',\n",
    "            cmap='Greens',\n",
    "            cbar=False,\n",
    "            yticklabels=['Não problemático','Problemático'],\n",
    "            xticklabels=['Não problemático\\n(previsão)','Problemático\\n(previsão)'])\n",
    "\n",
    "plt.yticks(rotation=0) \n",
    "\n",
    "plt.show()"
   ]
  },
  {
   "cell_type": "markdown",
   "id": "12834c3f",
   "metadata": {},
   "source": [
    "#### Salvando arquivos"
   ]
  },
  {
   "cell_type": "code",
   "execution_count": 24,
   "id": "39b33b6a",
   "metadata": {
    "scrolled": true
   },
   "outputs": [
    {
     "data": {
      "text/plain": [
       "Index(['Problem', 'Male', 'Dependent_count', 'college_or_above', 'Married',\n",
       "       'Less_than_$40K', 'Months_on_book', 'Total_Relationship_Count',\n",
       "       'Months_Inactive_12_mon', 'Contacts_Count_12_mon', 'Credit_Limit',\n",
       "       'Total_Revolving_Bal', 'Avg_Open_To_Buy', 'Total_Amt_Chng_Q4_Q1',\n",
       "       'Total_Trans_Amt', 'Total_Trans_Ct', 'Total_Ct_Chng_Q4_Q1',\n",
       "       'Avg_Utilization_Ratio', 'Customer_Age_0-43', 'Customer_Age_43-50',\n",
       "       'Customer_Age_50-68'],\n",
       "      dtype='object')"
      ]
     },
     "metadata": {},
     "output_type": "display_data"
    }
   ],
   "source": [
    "display(data.columns)"
   ]
  },
  {
   "cell_type": "code",
   "execution_count": 25,
   "id": "f5d4a8b5",
   "metadata": {},
   "outputs": [],
   "source": [
    "arq = open('../Arquivos/modelo.pk', 'wb')\n",
    "pickle.dump(model, arq)\n",
    "arq.close()\n",
    "\n",
    "arq = open('../Arquivos/scaler.pk', 'wb')\n",
    "pickle.dump(scaler, arq)\n",
    "arq.close()"
   ]
  }
 ],
 "metadata": {
  "kernelspec": {
   "display_name": "Python 3 (ipykernel)",
   "language": "python",
   "name": "python3"
  },
  "language_info": {
   "codemirror_mode": {
    "name": "ipython",
    "version": 3
   },
   "file_extension": ".py",
   "mimetype": "text/x-python",
   "name": "python",
   "nbconvert_exporter": "python",
   "pygments_lexer": "ipython3",
   "version": "3.9.12"
  }
 },
 "nbformat": 4,
 "nbformat_minor": 5
}
